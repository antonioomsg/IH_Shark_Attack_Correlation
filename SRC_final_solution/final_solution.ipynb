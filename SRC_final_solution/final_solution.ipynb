{
 "cells": [
  {
   "cell_type": "markdown",
   "metadata": {},
   "source": [
    "Importamos las librerias"
   ]
  },
  {
   "cell_type": "code",
   "execution_count": 18,
   "metadata": {},
   "outputs": [],
   "source": [
    "import pandas as pd\n",
    "import numpy as np\n",
    "import re\n",
    "import fun as f"
   ]
  },
  {
   "cell_type": "markdown",
   "metadata": {},
   "source": [
    "Creamos un data frame de base de datos y observamos la tabla para saber que tipo de hipotesis podemos estudiar."
   ]
  },
  {
   "cell_type": "code",
   "execution_count": 19,
   "metadata": {},
   "outputs": [
    {
     "data": {
      "text/html": [
       "<div>\n",
       "<style scoped>\n",
       "    .dataframe tbody tr th:only-of-type {\n",
       "        vertical-align: middle;\n",
       "    }\n",
       "\n",
       "    .dataframe tbody tr th {\n",
       "        vertical-align: top;\n",
       "    }\n",
       "\n",
       "    .dataframe thead th {\n",
       "        text-align: right;\n",
       "    }\n",
       "</style>\n",
       "<table border=\"1\" class=\"dataframe\">\n",
       "  <thead>\n",
       "    <tr style=\"text-align: right;\">\n",
       "      <th></th>\n",
       "      <th>Case Number</th>\n",
       "      <th>Date</th>\n",
       "      <th>Year</th>\n",
       "      <th>Type</th>\n",
       "      <th>Country</th>\n",
       "      <th>Area</th>\n",
       "      <th>Location</th>\n",
       "      <th>Activity</th>\n",
       "      <th>Name</th>\n",
       "      <th>Sex</th>\n",
       "      <th>...</th>\n",
       "      <th>Species</th>\n",
       "      <th>Investigator or Source</th>\n",
       "      <th>pdf</th>\n",
       "      <th>href formula</th>\n",
       "      <th>href</th>\n",
       "      <th>Case Number.1</th>\n",
       "      <th>Case Number.2</th>\n",
       "      <th>original order</th>\n",
       "      <th>Unnamed: 22</th>\n",
       "      <th>Unnamed: 23</th>\n",
       "    </tr>\n",
       "  </thead>\n",
       "  <tbody>\n",
       "    <tr>\n",
       "      <th>0</th>\n",
       "      <td>2018.06.25</td>\n",
       "      <td>25-Jun-2018</td>\n",
       "      <td>2018.0</td>\n",
       "      <td>Boating</td>\n",
       "      <td>USA</td>\n",
       "      <td>California</td>\n",
       "      <td>Oceanside, San Diego County</td>\n",
       "      <td>Paddling</td>\n",
       "      <td>Julie Wolfe</td>\n",
       "      <td>F</td>\n",
       "      <td>...</td>\n",
       "      <td>White shark</td>\n",
       "      <td>R. Collier, GSAF</td>\n",
       "      <td>2018.06.25-Wolfe.pdf</td>\n",
       "      <td>http://sharkattackfile.net/spreadsheets/pdf_di...</td>\n",
       "      <td>http://sharkattackfile.net/spreadsheets/pdf_di...</td>\n",
       "      <td>2018.06.25</td>\n",
       "      <td>2018.06.25</td>\n",
       "      <td>6303.0</td>\n",
       "      <td>NaN</td>\n",
       "      <td>NaN</td>\n",
       "    </tr>\n",
       "    <tr>\n",
       "      <th>1</th>\n",
       "      <td>2018.06.18</td>\n",
       "      <td>18-Jun-2018</td>\n",
       "      <td>2018.0</td>\n",
       "      <td>Unprovoked</td>\n",
       "      <td>USA</td>\n",
       "      <td>Georgia</td>\n",
       "      <td>St. Simon Island, Glynn County</td>\n",
       "      <td>Standing</td>\n",
       "      <td>Adyson McNeely</td>\n",
       "      <td>F</td>\n",
       "      <td>...</td>\n",
       "      <td>NaN</td>\n",
       "      <td>K.McMurray, TrackingSharks.com</td>\n",
       "      <td>2018.06.18-McNeely.pdf</td>\n",
       "      <td>http://sharkattackfile.net/spreadsheets/pdf_di...</td>\n",
       "      <td>http://sharkattackfile.net/spreadsheets/pdf_di...</td>\n",
       "      <td>2018.06.18</td>\n",
       "      <td>2018.06.18</td>\n",
       "      <td>6302.0</td>\n",
       "      <td>NaN</td>\n",
       "      <td>NaN</td>\n",
       "    </tr>\n",
       "    <tr>\n",
       "      <th>2</th>\n",
       "      <td>2018.06.09</td>\n",
       "      <td>09-Jun-2018</td>\n",
       "      <td>2018.0</td>\n",
       "      <td>Invalid</td>\n",
       "      <td>USA</td>\n",
       "      <td>Hawaii</td>\n",
       "      <td>Habush, Oahu</td>\n",
       "      <td>Surfing</td>\n",
       "      <td>John Denges</td>\n",
       "      <td>M</td>\n",
       "      <td>...</td>\n",
       "      <td>NaN</td>\n",
       "      <td>K.McMurray, TrackingSharks.com</td>\n",
       "      <td>2018.06.09-Denges.pdf</td>\n",
       "      <td>http://sharkattackfile.net/spreadsheets/pdf_di...</td>\n",
       "      <td>http://sharkattackfile.net/spreadsheets/pdf_di...</td>\n",
       "      <td>2018.06.09</td>\n",
       "      <td>2018.06.09</td>\n",
       "      <td>6301.0</td>\n",
       "      <td>NaN</td>\n",
       "      <td>NaN</td>\n",
       "    </tr>\n",
       "    <tr>\n",
       "      <th>3</th>\n",
       "      <td>2018.06.08</td>\n",
       "      <td>08-Jun-2018</td>\n",
       "      <td>2018.0</td>\n",
       "      <td>Unprovoked</td>\n",
       "      <td>AUSTRALIA</td>\n",
       "      <td>New South Wales</td>\n",
       "      <td>Arrawarra Headland</td>\n",
       "      <td>Surfing</td>\n",
       "      <td>male</td>\n",
       "      <td>M</td>\n",
       "      <td>...</td>\n",
       "      <td>2 m shark</td>\n",
       "      <td>B. Myatt, GSAF</td>\n",
       "      <td>2018.06.08-Arrawarra.pdf</td>\n",
       "      <td>http://sharkattackfile.net/spreadsheets/pdf_di...</td>\n",
       "      <td>http://sharkattackfile.net/spreadsheets/pdf_di...</td>\n",
       "      <td>2018.06.08</td>\n",
       "      <td>2018.06.08</td>\n",
       "      <td>6300.0</td>\n",
       "      <td>NaN</td>\n",
       "      <td>NaN</td>\n",
       "    </tr>\n",
       "    <tr>\n",
       "      <th>4</th>\n",
       "      <td>2018.06.04</td>\n",
       "      <td>04-Jun-2018</td>\n",
       "      <td>2018.0</td>\n",
       "      <td>Provoked</td>\n",
       "      <td>MEXICO</td>\n",
       "      <td>Colima</td>\n",
       "      <td>La Ticla</td>\n",
       "      <td>Free diving</td>\n",
       "      <td>Gustavo Ramos</td>\n",
       "      <td>M</td>\n",
       "      <td>...</td>\n",
       "      <td>Tiger shark, 3m</td>\n",
       "      <td>A .Kipper</td>\n",
       "      <td>2018.06.04-Ramos.pdf</td>\n",
       "      <td>http://sharkattackfile.net/spreadsheets/pdf_di...</td>\n",
       "      <td>http://sharkattackfile.net/spreadsheets/pdf_di...</td>\n",
       "      <td>2018.06.04</td>\n",
       "      <td>2018.06.04</td>\n",
       "      <td>6299.0</td>\n",
       "      <td>NaN</td>\n",
       "      <td>NaN</td>\n",
       "    </tr>\n",
       "  </tbody>\n",
       "</table>\n",
       "<p>5 rows × 24 columns</p>\n",
       "</div>"
      ],
      "text/plain": [
       "  Case Number         Date    Year        Type    Country             Area  \\\n",
       "0  2018.06.25  25-Jun-2018  2018.0     Boating        USA       California   \n",
       "1  2018.06.18  18-Jun-2018  2018.0  Unprovoked        USA          Georgia   \n",
       "2  2018.06.09  09-Jun-2018  2018.0     Invalid        USA           Hawaii   \n",
       "3  2018.06.08  08-Jun-2018  2018.0  Unprovoked  AUSTRALIA  New South Wales   \n",
       "4  2018.06.04  04-Jun-2018  2018.0    Provoked     MEXICO           Colima   \n",
       "\n",
       "                         Location     Activity             Name Sex   ...  \\\n",
       "0     Oceanside, San Diego County     Paddling      Julie Wolfe    F  ...   \n",
       "1  St. Simon Island, Glynn County     Standing  Adyson McNeely     F  ...   \n",
       "2                    Habush, Oahu      Surfing      John Denges    M  ...   \n",
       "3              Arrawarra Headland      Surfing             male    M  ...   \n",
       "4                        La Ticla  Free diving   Gustavo Ramos     M  ...   \n",
       "\n",
       "          Species           Investigator or Source                       pdf  \\\n",
       "0      White shark                R. Collier, GSAF      2018.06.25-Wolfe.pdf   \n",
       "1              NaN  K.McMurray, TrackingSharks.com    2018.06.18-McNeely.pdf   \n",
       "2              NaN  K.McMurray, TrackingSharks.com     2018.06.09-Denges.pdf   \n",
       "3        2 m shark                  B. Myatt, GSAF  2018.06.08-Arrawarra.pdf   \n",
       "4  Tiger shark, 3m                       A .Kipper      2018.06.04-Ramos.pdf   \n",
       "\n",
       "                                        href formula  \\\n",
       "0  http://sharkattackfile.net/spreadsheets/pdf_di...   \n",
       "1  http://sharkattackfile.net/spreadsheets/pdf_di...   \n",
       "2  http://sharkattackfile.net/spreadsheets/pdf_di...   \n",
       "3  http://sharkattackfile.net/spreadsheets/pdf_di...   \n",
       "4  http://sharkattackfile.net/spreadsheets/pdf_di...   \n",
       "\n",
       "                                                href Case Number.1  \\\n",
       "0  http://sharkattackfile.net/spreadsheets/pdf_di...    2018.06.25   \n",
       "1  http://sharkattackfile.net/spreadsheets/pdf_di...    2018.06.18   \n",
       "2  http://sharkattackfile.net/spreadsheets/pdf_di...    2018.06.09   \n",
       "3  http://sharkattackfile.net/spreadsheets/pdf_di...    2018.06.08   \n",
       "4  http://sharkattackfile.net/spreadsheets/pdf_di...    2018.06.04   \n",
       "\n",
       "  Case Number.2 original order Unnamed: 22 Unnamed: 23  \n",
       "0    2018.06.25         6303.0         NaN         NaN  \n",
       "1    2018.06.18         6302.0         NaN         NaN  \n",
       "2    2018.06.09         6301.0         NaN         NaN  \n",
       "3    2018.06.08         6300.0         NaN         NaN  \n",
       "4    2018.06.04         6299.0         NaN         NaN  \n",
       "\n",
       "[5 rows x 24 columns]"
      ]
     },
     "execution_count": 19,
     "metadata": {},
     "output_type": "execute_result"
    }
   ],
   "source": [
    "df = pd.read_csv(\"../../IH_Shark_Attack_Correlation/input/attacks.csv\",encoding='latin')\n",
    "df.head()"
   ]
  },
  {
   "cell_type": "code",
   "execution_count": 20,
   "metadata": {},
   "outputs": [
    {
     "data": {
      "text/plain": [
       "'El documento tiene unas dimensiones de (25723, 24)'"
      ]
     },
     "execution_count": 20,
     "metadata": {},
     "output_type": "execute_result"
    }
   ],
   "source": [
    "dim= df.shape\n",
    "f\"El documento tiene unas dimensiones de {dim}\""
   ]
  },
  {
   "cell_type": "markdown",
   "metadata": {},
   "source": [
    "Hipotesis: Los ataques de tiburon hacia deportistas con un equimamiento que les hiciese parecer otro animal no acaban en muerte. Por lo contrario, si el tiburon sabe que ataca a un humano es para matarlo y comer. Evaluaremos tambien que este accidente halla sido o no provocado."
   ]
  },
  {
   "cell_type": "code",
   "execution_count": 21,
   "metadata": {},
   "outputs": [
    {
     "data": {
      "text/plain": [
       "Unnamed: 22    0.999961\n",
       "Unnamed: 23    0.999922\n",
       "Time           0.885394\n",
       "Species        0.865335\n",
       "Age            0.865062\n",
       "Sex            0.776970\n",
       "Activity       0.776154\n",
       "Location       0.775998\n",
       "Fatal (Y/N)    0.775959\n",
       "Area           0.772694\n",
       "dtype: float64"
      ]
     },
     "execution_count": 21,
     "metadata": {},
     "output_type": "execute_result"
    }
   ],
   "source": [
    "missing_values= (df.isnull().sum()/df.shape[0]).sort_values(ascending=False) .head(10)\n",
    "missing_values"
   ]
  },
  {
   "cell_type": "markdown",
   "metadata": {},
   "source": [
    "Como podemos observar en la anterior celda, tenemos una tabla bastante incompleta para nuestro análisis. Por lo que dirigiremos nuestra hipoteses como he dicho anteriormente, Activity, Fatality y Type."
   ]
  },
  {
   "cell_type": "code",
   "execution_count": 22,
   "metadata": {},
   "outputs": [],
   "source": [
    "h_sharks_1 =df[[\"Activity\",\"Fatal (Y/N)\",\"Type\"]]\n",
    "h_sharks_1.head(30)\n",
    "h_sharks_1 = h_sharks_1.rename(columns={'Fatal (Y/N)':'Mortalidad',\n",
    "                                   'Activity':'Deporte','Type':'Tipo'})"
   ]
  },
  {
   "cell_type": "markdown",
   "metadata": {},
   "source": [
    "Borramos las filas en las que no tengamos informacion en activity, dado que según la actividad que realizaba la victima podremos determinar otras columnas, pero no inversamente."
   ]
  },
  {
   "cell_type": "markdown",
   "metadata": {},
   "source": [
    "A continuación hacemos un conteo de las filas con valores nulos para saber con cuantos valores contamos para nuestro valorar nuestra hipotesis."
   ]
  },
  {
   "cell_type": "code",
   "execution_count": 23,
   "metadata": {},
   "outputs": [
    {
     "data": {
      "text/plain": [
       "Deporte       19965\n",
       "Mortalidad    19960\n",
       "Tipo          19425\n",
       "dtype: int64"
      ]
     },
     "execution_count": 23,
     "metadata": {},
     "output_type": "execute_result"
    }
   ],
   "source": [
    "h_sharks_1.isnull().sum().sort_values(ascending=False)"
   ]
  },
  {
   "cell_type": "code",
   "execution_count": 24,
   "metadata": {},
   "outputs": [
    {
     "data": {
      "text/plain": [
       "Tipo          0\n",
       "Mortalidad    0\n",
       "Deporte       0\n",
       "dtype: int64"
      ]
     },
     "execution_count": 24,
     "metadata": {},
     "output_type": "execute_result"
    }
   ],
   "source": [
    "f.drop_null(h_sharks_1,\"Deporte\")\n",
    "f.drop_null(h_sharks_1,\"Tipo\")\n",
    "f.drop_null(h_sharks_1,\"Mortalidad\")\n",
    "h_sharks_1.isnull().sum().sort_values(ascending=False)"
   ]
  },
  {
   "cell_type": "markdown",
   "metadata": {},
   "source": [
    "A continuación vamos a observar las diferentes variables que contienen nuestra tabla para tratar de estandarizarlas."
   ]
  },
  {
   "cell_type": "code",
   "execution_count": 25,
   "metadata": {},
   "outputs": [
    {
     "name": "stdout",
     "output_type": "stream",
     "text": [
      "Unprovoked      4259\n",
      "Provoked         537\n",
      "Sea Disaster     226\n",
      "Boating          179\n",
      "Boat             115\n",
      "Invalid           22\n",
      "Questionable       2\n",
      "Boatomg            1\n",
      "Name: Tipo, dtype: int64\n"
     ]
    }
   ],
   "source": [
    "f.c_data(h_sharks_1,\"Tipo\")"
   ]
  },
  {
   "cell_type": "code",
   "execution_count": 26,
   "metadata": {},
   "outputs": [
    {
     "name": "stdout",
     "output_type": "stream",
     "text": [
      "N          4017\n",
      "Y          1280\n",
      "UNKNOWN      36\n",
      " N            5\n",
      "M             1\n",
      "2017          1\n",
      "y             1\n",
      "Name: Mortalidad, dtype: int64\n"
     ]
    }
   ],
   "source": [
    "f.c_data(h_sharks_1,\"Mortalidad\")\n"
   ]
  },
  {
   "cell_type": "code",
   "execution_count": 27,
   "metadata": {},
   "outputs": [
    {
     "name": "stdout",
     "output_type": "stream",
     "text": [
      "Surfing                                        933\n",
      "Swimming                                       780\n",
      "Fishing                                        411\n",
      "Spearfishing                                   309\n",
      "Bathing                                        149\n",
      "                                              ... \n",
      "The 168-ton Belmore foundered in heavy seas      1\n",
      "Fishing, attempted to take a netted shark        1\n",
      "Swept out to sea while fishing                   1\n",
      "Wreck / Technical diving                         1\n",
      "Working prawn net                                1\n",
      "Name: Deporte, Length: 1419, dtype: int64\n"
     ]
    }
   ],
   "source": [
    "f.c_data(h_sharks_1,\"Deporte\")"
   ]
  },
  {
   "cell_type": "markdown",
   "metadata": {},
   "source": [
    "Como podemos observar, nuestras columnas tienen diferentes datos los cuales vamos a intentar estandarizar. \n",
    "1.Tipo: Provoque or Unprovoque. 2. Mortalidad: Yes or No 3. Deporte: Human Shape or Non Human Shape."
   ]
  },
  {
   "cell_type": "markdown",
   "metadata": {},
   "source": [
    "Primero empezamos estandarizarnos tipo:"
   ]
  },
  {
   "cell_type": "code",
   "execution_count": 28,
   "metadata": {},
   "outputs": [],
   "source": [
    "f.standardize_data(h_sharks_1,\"Tipo\",\"Sea Disaster\",\"Unprovoked\")\n",
    "f.standardize_data(h_sharks_1,\"Tipo\",\"Boat\",\"Unprovoked\")\n",
    "f.standardize_data(h_sharks_1,\"Tipo\",\"Boating\",\"Unprovoked\")\n",
    "f.standardize_data(h_sharks_1,\"Tipo\",\"Invalid\",\"Unprovoked\")\n",
    "f.standardize_data(h_sharks_1,\"Tipo\",\"Questionable\",\"Unprovoked\")\n",
    "f.standardize_data(h_sharks_1,\"Tipo\",\"Boatomg\",\"Unprovoked\")"
   ]
  },
  {
   "cell_type": "code",
   "execution_count": 29,
   "metadata": {},
   "outputs": [
    {
     "name": "stdout",
     "output_type": "stream",
     "text": [
      "Unprovoked    4804\n",
      "Provoked       537\n",
      "Name: Tipo, dtype: int64\n",
      "Unprovoked    4804\n",
      "Name: Tipo, dtype: int64\n"
     ]
    }
   ],
   "source": [
    "f.c_data(h_sharks_1,\"Tipo\")\n",
    "drop_unresponsive= ['Unprovoked']\n",
    "h_sharks_1= h_sharks_1[(h_sharks_1[\"Tipo\"].isin(drop_unresponsive))]\n",
    "f.c_data(h_sharks_1,\"Tipo\")"
   ]
  },
  {
   "cell_type": "markdown",
   "metadata": {},
   "source": [
    "A continuación eliminamos las filas de Mortalidad desconocida."
   ]
  },
  {
   "cell_type": "code",
   "execution_count": 30,
   "metadata": {},
   "outputs": [
    {
     "name": "stdout",
     "output_type": "stream",
     "text": [
      "N    3503\n",
      "Y    1263\n",
      "Name: Mortalidad, dtype: int64\n"
     ]
    }
   ],
   "source": [
    "drop_mortal= ['UNKNOWN', ' N','M','2017','y','N ']\n",
    "h_sharks_1= h_sharks_1[~(h_sharks_1[\"Mortalidad\"].isin(drop_mortal))]\n",
    "f.c_data(h_sharks_1,\"Mortalidad\")"
   ]
  },
  {
   "cell_type": "markdown",
   "metadata": {},
   "source": [
    "Por último limpiamos deporte haciendo uso de regex."
   ]
  },
  {
   "cell_type": "markdown",
   "metadata": {},
   "source": [
    "Para ello vamos a analizar las variables mas repetidas en nuestra tabla.\n"
   ]
  },
  {
   "cell_type": "code",
   "execution_count": 31,
   "metadata": {},
   "outputs": [
    {
     "data": {
      "text/plain": [
       "Surfing                0.192195\n",
       "Swimming               0.159883\n",
       "Spearfishing           0.053714\n",
       "Fishing                0.049727\n",
       "Bathing                0.030634\n",
       "Wading                 0.027696\n",
       "Diving                 0.020562\n",
       "Standing               0.020143\n",
       "Snorkeling             0.017205\n",
       "Body boarding          0.012799\n",
       "Scuba diving           0.011960\n",
       "Body surfing           0.009652\n",
       "Swimming               0.008603\n",
       "Pearl diving           0.006504\n",
       "Kayaking               0.006504\n",
       "Treading water         0.006295\n",
       "Fell overboard         0.006085\n",
       "Boogie boarding        0.005245\n",
       "Free diving            0.004616\n",
       "Windsurfing            0.003987\n",
       "Walking                0.003147\n",
       "Boogie Boarding        0.003147\n",
       "Floating               0.002728\n",
       "Surf skiing            0.002518\n",
       "Rowing                 0.002308\n",
       "Sponge diving          0.002098\n",
       "Canoeing               0.002098\n",
       "Surf-skiing            0.002098\n",
       "Fell into the water    0.001888\n",
       "Diving for trochus     0.001888\n",
       "Name: Deporte, dtype: float64"
      ]
     },
     "execution_count": 31,
     "metadata": {},
     "output_type": "execute_result"
    }
   ],
   "source": [
    "dim1=h_sharks_1.shape\n",
    "(h_sharks_1[\"Deporte\"].value_counts()/dim1[0]).head(30)"
   ]
  },
  {
   "cell_type": "code",
   "execution_count": 32,
   "metadata": {},
   "outputs": [],
   "source": [
    "activity_rename={\n",
    "\".*[Ss]urfing\":\"Not Human Shape\",\n",
    "\".*[Ss]wimming\":\"Human Shape\",\n",
    "\".*[Ff]ishing\":\"Human Shape\",\n",
    "\".*[Ss]pearfishing\":\"Human Shape\",\n",
    "\".*[Bb]athing\":\"Human Shape\",\n",
    "\".*[Ww]ading\":\"Human Shape\",\n",
    "\".*[Dd]iving\":\"Human Shape\",\n",
    "\".*[Ss]tanding\":\"Human Shape\",\n",
    "\".*[Ss]norkeling\":\"Human Shape\",\n",
    "\".*[Ss]cuba\":\"Human Shape\",\n",
    "\".*[Bb]ody\":\"Not Human Shape\",\n",
    "\".*[Bb]ody\":\"Not Human Shape\",\n",
    "\".*[Ss]wimming\":\"Human Shape\",\n",
    "\".*[Pp]earl\":\"Human Shape\",\n",
    "\".*[Kk]ayaking\":\"Not Human Shape\",\n",
    "\".*[Tt]reading\":\"Not Human Shape\",\n",
    "\".*[Ff]ell\":\"Human Shape\",\n",
    "\".*[Ff]ree\":\"Human Shape\",\n",
    "\".*[Bb]oogie\":\"Not Human Shape\",\n",
    "\".*[Ww]indsurfing\":\"Not Human Shape\",\n",
    "\".*[Bb]oogie\":\"Not Human Shape\",\n",
    "\".*[Ww]alking\":\"Human Shape\",\n",
    "\".*[Ff]loating\":\"Human Shape\",\n",
    "\".*[Ff]ishing\":\"Human Shape\",\n",
    "\".*[Rr]owing\":\"Not Human Shape\",\n",
    "\".*[Cc]anoeing\":\"Not Human Shape\",\n",
    "\".*[Ss]urf\":\"Not Human Shape\",\n",
    "\".*[Kk]ayak\":\"Not Human Shape\"}"
   ]
  },
  {
   "cell_type": "code",
   "execution_count": 33,
   "metadata": {},
   "outputs": [],
   "source": [
    "Shapes =[]\n",
    "for i in h_sharks_1.Deporte:\n",
    "    for key,value in activity_rename.items():\n",
    "        if re.search(key, str(i)):\n",
    "            i=value\n",
    "    Shapes.append(i) "
   ]
  },
  {
   "cell_type": "code",
   "execution_count": 34,
   "metadata": {},
   "outputs": [],
   "source": [
    "h_sharks_1.Deporte= Shapes"
   ]
  },
  {
   "cell_type": "code",
   "execution_count": 35,
   "metadata": {},
   "outputs": [
    {
     "data": {
      "text/plain": [
       "Human Shape        0.595468\n",
       "Not Human Shape    0.282417\n",
       "Paddle boarding    0.001679\n",
       "Playing            0.001469\n",
       "Sailing            0.001469\n",
       "Name: Deporte, dtype: float64"
      ]
     },
     "execution_count": 35,
     "metadata": {},
     "output_type": "execute_result"
    }
   ],
   "source": [
    "dim1=h_sharks_1.shape\n",
    "(h_sharks_1[\"Deporte\"].value_counts()/dim1[0]).head(5)"
   ]
  },
  {
   "cell_type": "markdown",
   "metadata": {},
   "source": [
    "Como podemos observar en la celdas de arriba, hemos conseguido estandarizar los datos que teniamos en un 86%, procedemos a eliminar el resto de filas."
   ]
  },
  {
   "cell_type": "code",
   "execution_count": 36,
   "metadata": {
    "scrolled": true
   },
   "outputs": [
    {
     "name": "stdout",
     "output_type": "stream",
     "text": [
      "Human Shape        2838\n",
      "Not Human Shape    1346\n",
      "Name: Deporte, dtype: int64\n"
     ]
    }
   ],
   "source": [
    "drop_mortal= ['Human Shape','Not Human Shape']\n",
    "h_sharks_1= h_sharks_1[(h_sharks_1[\"Deporte\"].isin(drop_mortal))]\n",
    "f.c_data(h_sharks_1,\"Deporte\")"
   ]
  },
  {
   "cell_type": "code",
   "execution_count": 37,
   "metadata": {},
   "outputs": [],
   "source": [
    "h_sharks_1 = h_sharks_1.reset_index(drop=True)"
   ]
  },
  {
   "cell_type": "code",
   "execution_count": 38,
   "metadata": {},
   "outputs": [],
   "source": [
    "mortality_by_shape = h_sharks_1.groupby([\"Deporte\",\"Mortalidad\"]).agg({\"Mortalidad\":\"count\"})\n",
    "\n"
   ]
  },
  {
   "cell_type": "code",
   "execution_count": 39,
   "metadata": {},
   "outputs": [
    {
     "data": {
      "text/html": [
       "<div>\n",
       "<style scoped>\n",
       "    .dataframe tbody tr th:only-of-type {\n",
       "        vertical-align: middle;\n",
       "    }\n",
       "\n",
       "    .dataframe tbody tr th {\n",
       "        vertical-align: top;\n",
       "    }\n",
       "\n",
       "    .dataframe thead th {\n",
       "        text-align: right;\n",
       "    }\n",
       "</style>\n",
       "<table border=\"1\" class=\"dataframe\">\n",
       "  <thead>\n",
       "    <tr style=\"text-align: right;\">\n",
       "      <th></th>\n",
       "      <th></th>\n",
       "      <th>Mortalidad</th>\n",
       "    </tr>\n",
       "    <tr>\n",
       "      <th>Deporte</th>\n",
       "      <th>Mortalidad</th>\n",
       "      <th></th>\n",
       "    </tr>\n",
       "  </thead>\n",
       "  <tbody>\n",
       "    <tr>\n",
       "      <th rowspan=\"2\" valign=\"top\">Human Shape</th>\n",
       "      <th>N</th>\n",
       "      <td>1954</td>\n",
       "    </tr>\n",
       "    <tr>\n",
       "      <th>Y</th>\n",
       "      <td>884</td>\n",
       "    </tr>\n",
       "    <tr>\n",
       "      <th rowspan=\"2\" valign=\"top\">Not Human Shape</th>\n",
       "      <th>N</th>\n",
       "      <td>1244</td>\n",
       "    </tr>\n",
       "    <tr>\n",
       "      <th>Y</th>\n",
       "      <td>102</td>\n",
       "    </tr>\n",
       "  </tbody>\n",
       "</table>\n",
       "</div>"
      ],
      "text/plain": [
       "                            Mortalidad\n",
       "Deporte         Mortalidad            \n",
       "Human Shape     N                 1954\n",
       "                Y                  884\n",
       "Not Human Shape N                 1244\n",
       "                Y                  102"
      ]
     },
     "execution_count": 39,
     "metadata": {},
     "output_type": "execute_result"
    }
   ],
   "source": [
    "mortality_by_shape"
   ]
  },
  {
   "cell_type": "markdown",
   "metadata": {},
   "source": [
    "Conclusión: Podemos verificar que la hipótesis se cumple. Un 28% de los atacados con Human Shape, fallecieron frente a un 8% en caso de que estuviesen haciendo deporte.  "
   ]
  },
  {
   "cell_type": "code",
   "execution_count": null,
   "metadata": {},
   "outputs": [],
   "source": []
  },
  {
   "cell_type": "code",
   "execution_count": null,
   "metadata": {},
   "outputs": [],
   "source": []
  },
  {
   "cell_type": "code",
   "execution_count": null,
   "metadata": {},
   "outputs": [],
   "source": []
  }
 ],
 "metadata": {
  "kernelspec": {
   "display_name": "Python 3",
   "language": "python",
   "name": "python3"
  },
  "language_info": {
   "codemirror_mode": {
    "name": "ipython",
    "version": 3
   },
   "file_extension": ".py",
   "mimetype": "text/x-python",
   "name": "python",
   "nbconvert_exporter": "python",
   "pygments_lexer": "ipython3",
   "version": "3.8.2"
  }
 },
 "nbformat": 4,
 "nbformat_minor": 4
}
